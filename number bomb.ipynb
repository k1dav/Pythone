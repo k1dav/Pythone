{
 "cells": [
  {
   "cell_type": "code",
   "execution_count": null,
   "metadata": {
    "collapsed": false
   },
   "outputs": [
    {
     "name": "stdout",
     "output_type": "stream",
     "text": [
      "終極密碼：1~100\n",
      "請輸入一個數字：50\n",
      "終極密碼：50~100\n",
      "請輸入一個數字：60\n",
      "終極密碼：50~60\n",
      "請輸入一個數字：55\n",
      "終極密碼：50~55\n",
      "請輸入一個數字：51\n",
      "終極密碼：50~51\n",
      "請輸入一個數字：51\n",
      "終極密碼：50~51\n",
      "請輸入一個數字：50\n",
      "終極密碼：50~50\n",
      "請輸入一個數字：500\n",
      "終極密碼：50~500\n"
     ]
    }
   ],
   "source": [
    "from random import randint\n",
    "print ('終極密碼：1~100')\n",
    "bomb=randint (1,100)\n",
    "b = str(1)\n",
    "c = str(100)\n",
    "a = 0\n",
    "\n",
    "while a!= bomb:\n",
    "\n",
    "    if a < bomb:\n",
    "        a = input('請輸入一個數字：')\n",
    "        a = int(a)\n",
    "        b = str(a)\n",
    "        print(\"終極密碼：\"+b\n",
    "              +'~'+c)\n",
    "    elif a > bomb:\n",
    "        a = input('請輸入一個數字：')\n",
    "        a = int(a)\n",
    "        c = str(a)\n",
    "        print(\"終極密碼：\"+b\n",
    "              +'~'+c)\n",
    "    \n",
    "        "
   ]
  },
  {
   "cell_type": "code",
   "execution_count": null,
   "metadata": {
    "collapsed": false
   },
   "outputs": [],
   "source": [
    " a = input('請輸入一個數字：')\n",
    " a = int(a)"
   ]
  },
  {
   "cell_type": "code",
   "execution_count": 4,
   "metadata": {
    "collapsed": false
   },
   "outputs": [
    {
     "name": "stdout",
     "output_type": "stream",
     "text": [
      "hello, welome to guess game\n",
      "Please input a number: 10\n",
      "The number you input is :10\n",
      "Too large\n",
      "Please input a number: 5\n",
      "The number you input is :5\n",
      "Too small\n",
      "Please input a number: 6\n",
      "The number you input is :6\n",
      "You got it!\n",
      "game over, well done\n"
     ]
    }
   ],
   "source": [
    "#使用隨機函式 先匯入randint\n",
    "from random import randint\n",
    "print(\"hello, welome to guess game\")\n",
    "secret=randint(1,10)\n",
    "guess=0\n",
    "#while 用法\n",
    "while guess!=secret:\n",
    "    a=input(\"Please input a number: \")\n",
    "    guess=int(a)\n",
    "    print(\"The number you input is :\"+str(guess))\n",
    "    if guess>secret:\n",
    "        print(\"Too large\")\n",
    "    else:\n",
    "        #python的if else是二分式寫法      \n",
    "        if guess<secret :\n",
    "            print(\"Too small\")\n",
    "        else :\n",
    "            print(\"You got it!\")\n",
    "print(\"game over, well done\")"
   ]
  },
  {
   "cell_type": "code",
   "execution_count": null,
   "metadata": {
    "collapsed": true
   },
   "outputs": [],
   "source": []
  }
 ],
 "metadata": {
  "kernelspec": {
   "display_name": "Python 3",
   "language": "python",
   "name": "python3"
  },
  "language_info": {
   "codemirror_mode": {
    "name": "ipython",
    "version": 3
   },
   "file_extension": ".py",
   "mimetype": "text/x-python",
   "name": "python",
   "nbconvert_exporter": "python",
   "pygments_lexer": "ipython3",
   "version": "3.4.3"
  }
 },
 "nbformat": 4,
 "nbformat_minor": 0
}
